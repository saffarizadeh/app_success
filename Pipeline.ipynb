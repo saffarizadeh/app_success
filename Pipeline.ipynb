{
 "cells": [
  {
   "cell_type": "code",
   "execution_count": 1,
   "metadata": {},
   "outputs": [],
   "source": [
    "import requests\n",
    "import json\n",
    "import shutil\n",
    "\n",
    "\n",
    "class ApiCrawler(object):\n",
    "    def __init__(self):\n",
    "        self.crawled_apps = []\n",
    "        self.crawled_data = {}\n",
    "        self.to_crawl_list = []\n",
    "        self.chart_types = ['top-free', 'top-grossing', 'top-paid']\n",
    "\n",
    "    def create_crawl_list_from_rss(self):\n",
    "        for chart_type in self.chart_types:\n",
    "            url = 'https://rss.itunes.apple.com/api/v1/us/ios-apps/%s/all/200/explicit.json' % chart_type\n",
    "            chart_json = self.download_json_from_url(url, 'chart')\n",
    "            if chart_json:\n",
    "                app_ids = self.app_ids_from_chart(chart_json)\n",
    "                self.to_crawl_list.extend(app_ids)\n",
    "\n",
    "    @staticmethod\n",
    "    def app_ids_from_chart(chart_json):\n",
    "        app_ids = []\n",
    "        for app in chart_json:\n",
    "            app_ids.append(app['id'])\n",
    "        return app_ids\n",
    "\n",
    "    def crawl(self):\n",
    "        self.to_crawl_list = list(set(self.to_crawl_list))\n",
    "        while self.to_crawl_list:\n",
    "            app_id = self.to_crawl_list.pop(0)\n",
    "            url = 'https://itunes.apple.com/lookup?id=%s' % app_id\n",
    "            try:\n",
    "                self.crawled_data[app_id] = self.download_json_from_url(url, 'app')\n",
    "                self.crawled_apps.append(app_id)\n",
    "            except:\n",
    "                print('Something went wrong with %s.' % app_id)\n",
    "\n",
    "    def download_icons(self):\n",
    "        for app_id, data in self.crawled_data.items():\n",
    "            try:\n",
    "                icon100_url = data['artworkUrl100']\n",
    "                self.download_image(app_id, icon100_url, 'jpg')\n",
    "            except:\n",
    "                print('Failed to find the icon for app_id: ' + app_id)\n",
    "\n",
    "    @staticmethod\n",
    "    def download_image(app_id, url, file_type):\n",
    "        r = requests.get(url, stream=True)\n",
    "        if r.status_code == 200:\n",
    "            with open('icons/' + app_id + '.' + file_type, 'wb') as f:\n",
    "                r.raw.decode_content = True\n",
    "                shutil.copyfileobj(r.raw, f)\n",
    "\n",
    "    @staticmethod\n",
    "    def download_json_from_url(url, type):\n",
    "        data = None\n",
    "        u = requests.get(url)\n",
    "        # u.raise_for_status()\n",
    "        page = u.json()\n",
    "        try:\n",
    "            if type == 'app':\n",
    "                data = page['results'][0]\n",
    "            elif type == 'chart':\n",
    "                data = page['feed']['results']\n",
    "        except:\n",
    "            pass\n",
    "        return data\n",
    "\n",
    "    def save_data_as_json(self):\n",
    "        with open('crawled_data.json', 'w') as fp:\n",
    "            json.dump(self.crawled_data, fp)\n",
    "\n",
    "    def read_json_as_dict(self):\n",
    "        with open('crawled_data.json', 'r') as f:\n",
    "            self.crawled_data = json.load(f)\n",
    "\n",
    "\n",
    "# c = ApiCrawler()\n",
    "# c.create_crawl_list_from_rss()\n",
    "# c.crawl()\n",
    "# c.save_data_as_json()\n",
    "# c.read_json_as_dict()\n",
    "# c.download_icons()"
   ]
  },
  {
   "cell_type": "code",
   "execution_count": 10,
   "metadata": {},
   "outputs": [],
   "source": [
    "import os\n",
    "import cv2\n",
    "import json\n",
    "import numpy as np\n",
    "\n",
    "class ImageDataset(object):\n",
    "    def __init__(self, train_path):\n",
    "        self.train_path = train_path\n",
    "        self.image_filenames = os.listdir(train_path)\n",
    "\n",
    "    def load_image(self, file_path):\n",
    "        return cv2.imread(file_path)\n",
    "\n",
    "    def get_image_arrays(self):\n",
    "        return np.array([self.load_image(self.train_path + filename) for filename in self.image_filenames])\n",
    "\n",
    "    def read_json_as_dict(self):\n",
    "        with open('crawled_data.json', 'r') as f:\n",
    "            return json.load(f)\n",
    "\n",
    "    def get_image_lables(self):\n",
    "        labels = []\n",
    "        label_dataset = self.read_json_as_dict()\n",
    "        for image_filename in self.image_filenames:\n",
    "            rating_count = label_dataset[image_filename[:-4]]['userRatingCount']\n",
    "            labels.append(rating_count)\n",
    "        return np.array(labels)"
   ]
  },
  {
   "cell_type": "code",
   "execution_count": 11,
   "metadata": {},
   "outputs": [],
   "source": [
    "imd = ImageDataset('icons/')\n",
    "images = imd.get_image_arrays()\n",
    "labels = imd.get_image_lables()"
   ]
  },
  {
   "cell_type": "code",
   "execution_count": 12,
   "metadata": {},
   "outputs": [],
   "source": [
    "import matplotlib.pyplot as plt"
   ]
  },
  {
   "cell_type": "code",
   "execution_count": 13,
   "metadata": {},
   "outputs": [],
   "source": [
    "%matplotlib inline"
   ]
  },
  {
   "cell_type": "code",
   "execution_count": 14,
   "metadata": {},
   "outputs": [
    {
     "data": {
      "text/plain": [
       "<matplotlib.image.AxesImage at 0x7f6a902885c0>"
      ]
     },
     "execution_count": 14,
     "metadata": {},
     "output_type": "execute_result"
    },
    {
     "data": {
      "image/png": "[encoded data removed]",
      "text/plain": [
       "<Figure size 432x288 with 1 Axes>"
      ]
     },
     "metadata": {
      "needs_background": "light"
     },
     "output_type": "display_data"
    }
   ],
   "source": [
    "plt.imshow(images[0])"
   ]
  },
  {
   "cell_type": "code",
   "execution_count": 21,
   "metadata": {},
   "outputs": [
    {
     "data": {
      "text/plain": [
       "(100, 100, 3)"
      ]
     },
     "execution_count": 21,
     "metadata": {},
     "output_type": "execute_result"
    }
   ],
   "source": [
    "images.shape[1:]"
   ]
  },
  {
   "cell_type": "code",
   "execution_count": 7,
   "metadata": {},
   "outputs": [],
   "source": [
    "import tensorflow as tf"
   ]
  },
  {
   "cell_type": "code",
   "execution_count": 8,
   "metadata": {},
   "outputs": [
    {
     "data": {
      "text/plain": [
       "'2.0.0'"
      ]
     },
     "execution_count": 8,
     "metadata": {},
     "output_type": "execute_result"
    }
   ],
   "source": [
    "tf.__version__"
   ]
  },
  {
   "cell_type": "code",
   "execution_count": 23,
   "metadata": {},
   "outputs": [],
   "source": [
    "layers = [\n",
    "    tf.keras.layers.Conv2D(filters=16, kernel_size=(3,3), padding=\"same\",\n",
    "                           activation=tf.nn.relu, input_shape=images.shape[1:]),\n",
    "    tf.keras.layers.MaxPool2D(pool_size=(2,2), strides=(2,2)),\n",
    "    tf.keras.layers.Conv2D(filters=32, kernel_size=(3,3), padding=\"same\",\n",
    "                           activation=tf.nn.relu, input_shape=images.shape[1:]),\n",
    "    tf.keras.layers.MaxPool2D(pool_size=(2,2), strides=(2,2)),\n",
    "    tf.keras.layers.Conv2D(filters=64, kernel_size=(3,3), padding=\"same\",\n",
    "                           activation=tf.nn.relu, input_shape=images.shape[1:]),\n",
    "    tf.keras.layers.MaxPool2D(pool_size=(2,2), strides=(2,2)),\n",
    "    tf.keras.layers.Conv2D(filters=128, kernel_size=(3,3), padding=\"same\",\n",
    "                           activation=tf.nn.relu, input_shape=images.shape[1:]),\n",
    "    tf.keras.layers.MaxPool2D(pool_size=(2,2), strides=(2,2)),\n",
    "    tf.keras.layers.Conv2D(filters=256, kernel_size=(3,3), padding=\"same\",\n",
    "                           activation=tf.nn.relu, input_shape=images.shape[1:]),\n",
    "    tf.keras.layers.MaxPool2D(pool_size=(2,2), strides=(2,2)),\n",
    "    tf.keras.layers.Flatten(),\n",
    "    tf.keras.layers.Dense(units=512, activation=tf.nn.relu),\n",
    "    tf.keras.layers.Dense(units=256, activation=tf.nn.relu),\n",
    "    tf.keras.layers.Dense(1)\n",
    "]"
   ]
  },
  {
   "cell_type": "code",
   "execution_count": 24,
   "metadata": {},
   "outputs": [],
   "source": [
    "model = tf.keras.Sequential(layers)"
   ]
  },
  {
   "cell_type": "code",
   "execution_count": 29,
   "metadata": {},
   "outputs": [],
   "source": [
    "model.compile(optimizer=tf.keras.optimizers.RMSprop(0.001), loss='mse',metrics=['mae', 'mse'])"
   ]
  },
  {
   "cell_type": "code",
   "execution_count": 30,
   "metadata": {},
   "outputs": [
    {
     "name": "stdout",
     "output_type": "stream",
     "text": [
      "Train on 558 samples\n",
      "Epoch 1/5\n",
      "558/558 [==============================] - 4s 7ms/sample - loss: 1850859007368.7168 - mae: 557738.0625 - mse: 1850858799104.0000\n",
      "Epoch 2/5\n",
      "558/558 [==============================] - 3s 5ms/sample - loss: 1755595019781.5054 - mae: 518350.4062 - mse: 1755594883072.0000\n",
      "Epoch 3/5\n",
      "558/558 [==============================] - 3s 5ms/sample - loss: 1767955577353.1755 - mae: 537763.9375 - mse: 1767955628032.0000\n",
      "Epoch 4/5\n",
      "558/558 [==============================] - 3s 5ms/sample - loss: 1760229372006.7668 - mae: 518496.4062 - mse: 1760229195776.0000\n",
      "Epoch 5/5\n",
      "558/558 [==============================] - 4s 7ms/sample - loss: 1755681833547.2402 - mae: 531063.3125 - mse: 1755681914880.0000\n"
     ]
    }
   ],
   "source": [
    "model.fit(images, labels, epochs=5, batch_size=20)\n",
    "model.save_weights('model.tf')"
   ]
  },
  {
   "cell_type": "code",
   "execution_count": 33,
   "metadata": {},
   "outputs": [
    {
     "data": {
      "text/plain": [
       "<tensorflow.python.training.tracking.util.CheckpointLoadStatus at 0x7f6a8eeafa90>"
      ]
     },
     "execution_count": 33,
     "metadata": {},
     "output_type": "execute_result"
    }
   ],
   "source": [
    "eval_model = tf.keras.Sequential(layers)\n",
    "eval_model.load_weights('model.tf')"
   ]
  },
  {
   "cell_type": "code",
   "execution_count": 39,
   "metadata": {},
   "outputs": [
    {
     "data": {
      "text/plain": [
       "array([[279697.88 ],\n",
       "       [191378.23 ],\n",
       "       [229928.1  ],\n",
       "       [232085.58 ],\n",
       "       [ 96170.375],\n",
       "       [353921.3  ],\n",
       "       [367155.1  ],\n",
       "       [320032.66 ],\n",
       "       [373595.7  ],\n",
       "       [209192.44 ]], dtype=float32)"
      ]
     },
     "execution_count": 39,
     "metadata": {},
     "output_type": "execute_result"
    }
   ],
   "source": [
    "eval_model.predict(images[:10])"
   ]
  },
  {
   "cell_type": "code",
   "execution_count": 38,
   "metadata": {},
   "outputs": [
    {
     "data": {
      "text/plain": [
       "array([  4064, 133018,    108,   1900, 385433,  61371, 525335, 257897,\n",
       "          146,   4596])"
      ]
     },
     "execution_count": 38,
     "metadata": {},
     "output_type": "execute_result"
    }
   ],
   "source": [
    "labels[:10]"
   ]
  },
  {
   "cell_type": "code",
   "execution_count": null,
   "metadata": {},
   "outputs": [],
   "source": []
  }
 ],
 "metadata": {
  "kernelspec": {
   "display_name": "Python 3",
   "language": "python",
   "name": "python3"
  },
  "language_info": {
   "codemirror_mode": {
    "name": "ipython",
    "version": 3
   },
   "file_extension": ".py",
   "mimetype": "text/x-python",
   "name": "python",
   "nbconvert_exporter": "python",
   "pygments_lexer": "ipython3",
   "version": "3.6.8"
  }
 },
 "nbformat": 4,
 "nbformat_minor": 2
}
